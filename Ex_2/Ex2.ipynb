{
 "cells": [
  {
   "cell_type": "code",
   "execution_count": 1,
   "id": "2ff71329-cdc8-4671-83fd-9a16ed31c1a5",
   "metadata": {},
   "outputs": [],
   "source": [
    "import numpy as np"
   ]
  },
  {
   "cell_type": "markdown",
   "id": "cea70979-80fd-4996-bb3f-4edc9d6be965",
   "metadata": {},
   "source": [
    "## Import text as a string"
   ]
  },
  {
   "cell_type": "code",
   "execution_count": 2,
   "id": "b7dd3a53-5f0c-4b58-8c00-d088310b691e",
   "metadata": {},
   "outputs": [],
   "source": [
    "with open('text.txt') as f:\n",
    "    lines = f.readlines()\n",
    "    \n",
    "text = ''.join(lines).lower()"
   ]
  },
  {
   "cell_type": "markdown",
   "id": "42de0d3c-6d20-46a3-af62-9bec932643d1",
   "metadata": {},
   "source": [
    "## Find all unique characters in text"
   ]
  },
  {
   "cell_type": "code",
   "execution_count": 3,
   "id": "ec5613b7-91ab-4b55-a701-9d4ca669cc7f",
   "metadata": {},
   "outputs": [
    {
     "name": "stdout",
     "output_type": "stream",
     "text": [
      "Number of unique characters: 39\n"
     ]
    }
   ],
   "source": [
    "char_list = list(set(text))\n",
    "n_char = len(char_list)\n",
    "print('Number of unique characters:', n_char )"
   ]
  },
  {
   "cell_type": "markdown",
   "id": "7f5568f3-4bfa-4811-a228-1fa6782a7a6e",
   "metadata": {},
   "source": [
    "## Total number of charcters"
   ]
  },
  {
   "cell_type": "code",
   "execution_count": 4,
   "id": "d2ade2ce-83a3-48a5-98f1-3d5adc7ea3b6",
   "metadata": {},
   "outputs": [
    {
     "name": "stdout",
     "output_type": "stream",
     "text": [
      "Total number of characters:  106129\n"
     ]
    }
   ],
   "source": [
    "tot_char = np.sum([1 for i in text])\n",
    "print('Total number of characters: ', tot_char)"
   ]
  },
  {
   "cell_type": "markdown",
   "id": "90a8de47-61f8-4910-b66b-3ff4d1edcac8",
   "metadata": {},
   "source": [
    "## Counts for each character and associated probability"
   ]
  },
  {
   "cell_type": "code",
   "execution_count": 5,
   "id": "0af43884-3a13-4529-ba1f-18f264bf55c8",
   "metadata": {},
   "outputs": [],
   "source": [
    "char_counts=[]\n",
    "\n",
    "for char in char_list:\n",
    "    char_counts.append(text.count(char))\n",
    "    # print(char+':', text.count(char) )\n",
    "    \n",
    "char_prob = char_counts/tot_char\n",
    "char_dict = dict(map(lambda i,j : (i,j) , char_list, char_counts))"
   ]
  },
  {
   "cell_type": "markdown",
   "id": "5842f29c-5dd4-45c5-bd95-19e98cefdc52",
   "metadata": {},
   "source": [
    "## Text Shannon Entropy"
   ]
  },
  {
   "cell_type": "code",
   "execution_count": 6,
   "id": "4562164c-365b-4534-9de5-15ba6b7ed2b6",
   "metadata": {},
   "outputs": [],
   "source": [
    "def shannon_entropy(probs):\n",
    "    return np.sum(-probs*np.log2(probs))\n",
    "\n",
    "H = shannon_entropy(char_prob)"
   ]
  },
  {
   "cell_type": "code",
   "execution_count": 16,
   "id": "1e6ab523-54c6-4803-a862-100e3070768c",
   "metadata": {},
   "outputs": [
    {
     "name": "stdout",
     "output_type": "stream",
     "text": [
      "Text shannon entropy H[x] = 4.229589052568907\n"
     ]
    }
   ],
   "source": [
    "print('Text shannon entropy H[x] =', H)"
   ]
  },
  {
   "cell_type": "markdown",
   "id": "580a076d-a52f-4f66-99df-0edcb3dbfc98",
   "metadata": {},
   "source": [
    "## Joint probability"
   ]
  },
  {
   "cell_type": "code",
   "execution_count": 10,
   "id": "c9315737-5690-42ca-8c92-09b5db23eaca",
   "metadata": {},
   "outputs": [],
   "source": [
    "joint_counts = []\n",
    "\n",
    "for i, c0 in enumerate(char_list):\n",
    "    for j, c1 in enumerate(char_list[i:]):\n",
    "        # print(i,j)\n",
    "        # print(c1+c0)\n",
    "        joint_counts.append(text.count(c0+c1) + text.count(c1+c0))\n",
    "        \n",
    "joint_counts = np.array(joint_counts)\n",
    "\n",
    "joint_prob = joint_counts/joint_counts.sum()\n",
    "joint_prob[joint_prob==0.]=1\n",
    "\n",
    "H_joint = shannon_entropy(joint_prob)"
   ]
  },
  {
   "cell_type": "code",
   "execution_count": 20,
   "id": "13b1a139-1e84-4721-93f7-e64042493ac7",
   "metadata": {},
   "outputs": [
    {
     "name": "stdout",
     "output_type": "stream",
     "text": [
      "Joint shannon entropy H[x,y] =  7.018346033120238\n"
     ]
    }
   ],
   "source": [
    "print('Joint shannon entropy H[x,y] = ', H_joint)"
   ]
  },
  {
   "cell_type": "markdown",
   "id": "6dcca123-4034-41e1-9282-85cee708a10e",
   "metadata": {},
   "source": [
    "## Conditional Probability\n",
    "Chain rule"
   ]
  },
  {
   "cell_type": "code",
   "execution_count": 18,
   "id": "dabdc09c-2ad1-4bca-a880-af41b27c6d04",
   "metadata": {},
   "outputs": [
    {
     "name": "stdout",
     "output_type": "stream",
     "text": [
      "The conditional shannon entropy H[y|x]= 2.788756980551331\n"
     ]
    }
   ],
   "source": [
    "H_cond = H_joint - H\n",
    "print('The conditional shannon entropy H[y|x]=', H_cond)"
   ]
  },
  {
   "cell_type": "markdown",
   "id": "4b69eb4f-540e-4226-9b46-9008d8783aea",
   "metadata": {},
   "source": [
    "## Mutual information"
   ]
  },
  {
   "cell_type": "code",
   "execution_count": 19,
   "id": "07819bc6-b5a5-4341-b4b0-d1d00bd2c69b",
   "metadata": {},
   "outputs": [
    {
     "name": "stdout",
     "output_type": "stream",
     "text": [
      "Mutual Information I[x:y] =  1.4408320720175762\n"
     ]
    }
   ],
   "source": [
    "I = H - H_cond\n",
    "print('Mutual Information I[x:y] = ', I)"
   ]
  },
  {
   "cell_type": "raw",
   "id": "2fe90d84-0a2d-4c69-9287-d4998725d925",
   "metadata": {},
   "source": [
    "## Conditional probability P(Cn|Cn-1)\n",
    "\n",
    "con_counts = np.zeros(shape=(n_char, n_char))\n",
    "\n",
    "for i, c0 in enumerate(char_list):\n",
    "    for j, c1 in enumerate(char_list):\n",
    "        # print(i,j)\n",
    "        # print(c1+c0)\n",
    "        con_counts[i,j] = text.count(c0+c1)\n",
    "\n",
    "tot_con_counts = con_counts.sum(axis=1)\n",
    "norm = np.tile(tot_con_counts, n_char).reshape(n_char, n_char).T\n",
    "\n",
    "con_prob = con_counts/norm\n",
    "\n",
    "### To compute log2(0)\n",
    "\n",
    "con_prob[con_prob==0] = 1\n",
    "\n",
    "Hj = -np.sum(con_prob*np.log2(con_prob), axis=0)\n",
    "H_x_y = np.sum(char_prob*Hj)\n",
    "\n",
    "\n",
    "print('The conditional entropy of a character given the one before is:', H_x_y)"
   ]
  }
 ],
 "metadata": {
  "kernelspec": {
   "display_name": "Python 3 (ipykernel)",
   "language": "python",
   "name": "python3"
  },
  "language_info": {
   "codemirror_mode": {
    "name": "ipython",
    "version": 3
   },
   "file_extension": ".py",
   "mimetype": "text/x-python",
   "name": "python",
   "nbconvert_exporter": "python",
   "pygments_lexer": "ipython3",
   "version": "3.10.13"
  }
 },
 "nbformat": 4,
 "nbformat_minor": 5
}
