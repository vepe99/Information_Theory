{
 "cells": [
  {
   "cell_type": "code",
   "execution_count": 1,
   "id": "223d2bfb-8f89-4c43-ac43-01540189e2a2",
   "metadata": {
    "tags": []
   },
   "outputs": [],
   "source": [
    "import numpy as np\n",
    "import matplotlib.pyplot as plt\n",
    "import pandas as pd"
   ]
  },
  {
   "cell_type": "markdown",
   "id": "9f3fbbbf-2960-4999-9809-57743ac7d996",
   "metadata": {},
   "source": [
    "Consider the given text (’text’). Consider each character (including spaces,\n",
    "punctuation and newline) as sampled from a space of characters with a given\n",
    "probability. Estimate:\n",
    "\n",
    "1. The Shannon entropy of the text\n",
    "2. The Conditional entropy of a character, given previous character\n",
    "3. The Mutual information between a character and the previous one\n"
   ]
  },
  {
   "cell_type": "code",
   "execution_count": 2,
   "id": "9a6483f6-a324-49d9-8514-412b8ac7bdc8",
   "metadata": {
    "tags": []
   },
   "outputs": [
    {
     "name": "stdout",
     "output_type": "stream",
     "text": [
      "0 A <class 'str'>\n",
      "1 C <class 'str'>\n",
      "2 T <class 'str'>\n",
      "3   <class 'str'>\n",
      "4 I <class 'str'>\n",
      "5 \n",
      " <class 'str'>\n"
     ]
    }
   ],
   "source": [
    "with open('text.txt', mode='r') as f:\n",
    "    lines = f.read()\n",
    "    \n",
    "for i,s in enumerate(lines):\n",
    "    print(i, s, type(s))\n",
    "    if i==5:\n",
    "        break"
   ]
  },
  {
   "cell_type": "code",
   "execution_count": 3,
   "id": "377a9488-83d9-421e-a436-9ec357468ae6",
   "metadata": {
    "tags": []
   },
   "outputs": [],
   "source": [
    "text = []\n",
    "with open('text.txt', mode='r') as f:\n",
    "    lines = f.read()\n",
    "    text = np.zeros(len(lines), dtype='str')\n",
    "for i,s in enumerate(lines):\n",
    "    text[i] = s\n",
    "    \n",
    "characters, index, counts = np.unique(text, return_index=True, return_counts=True )\n",
    "prob_mass_func = counts/len(text)"
   ]
  },
  {
   "cell_type": "code",
   "execution_count": 4,
   "id": "3c1cda7a-bfbf-4572-82bf-653ee5f71513",
   "metadata": {
    "tags": []
   },
   "outputs": [
    {
     "name": "stdout",
     "output_type": "stream",
     "text": [
      "('\\n', 5, 0.0418641464632664)\n",
      "(' ', 3, 0.22452863967435857)\n",
      "('!', 148, 0.002280243854177463)\n",
      "('&', 69445, 2.8267485795588387e-05)\n",
      "(\"'\", 241, 0.00554984971120052)\n",
      "(',', 170, 0.014962922481131452)\n",
      "('-', 1836, 0.0026288761789897202)\n",
      "('.', 13, 0.007208208877875039)\n",
      "(':', 31, 0.0025346512263377586)\n",
      "(';', 1150, 0.003137690923310311)\n",
      "('?', 190, 0.0016583591666745187)\n",
      "('A', 0, 0.01080760206917996)\n",
      "('B', 116, 0.002638298674254916)\n",
      "('C', 1, 0.0019316115293652066)\n",
      "('D', 560, 0.002186018901525502)\n",
      "('E', 8, 0.004701825137332869)\n",
      "('F', 557, 0.001309726841862262)\n",
      "('G', 205, 0.0009045595454588284)\n",
      "('H', 166, 0.001969301510425991)\n",
      "('I', 4, 0.010195139876942212)\n",
      "('J', 13976, 0.0001319149337127458)\n",
      "('K', 9496, 0.00012249243844754968)\n",
      "('L', 530, 0.0031000009422495266)\n",
      "('M', 103, 0.0017996965956524607)\n",
      "('N', 9, 0.00717994139207945)\n",
      "('O', 15, 0.008188148385455436)\n",
      "('P', 652, 0.003646505667630902)\n",
      "('R', 559, 0.004975077500023556)\n",
      "('S', 6, 0.005587539692261305)\n",
      "('T', 2, 0.006661704152493664)\n",
      "('U', 11703, 0.0005936172017073562)\n",
      "('V', 25434, 7.537996212156903e-05)\n",
      "('W', 628, 0.0026477211695201124)\n",
      "('Y', 789, 0.0004617022679946103)\n",
      "('Z', 571, 0.0005465047253813755)\n",
      "('[', 19970, 0.00018844990530392258)\n",
      "(']', 19977, 0.00017902741003872645)\n",
      "('a', 18, 0.0440690103553223)\n",
      "('b', 286, 0.009384805284135345)\n",
      "('c', 185, 0.012013681463125064)\n",
      "('d', 65, 0.024178122850493266)\n",
      "('e', 29, 0.07655777402971856)\n",
      "('f', 59, 0.012070216434716242)\n",
      "('g', 75, 0.01076048959285398)\n",
      "('h', 21, 0.041176304308907084)\n",
      "('i', 22, 0.037869008470823244)\n",
      "('j', 9565, 0.00041458979166862967)\n",
      "('k', 215, 0.006209424379764249)\n",
      "('l', 73, 0.026882378991604557)\n",
      "('m', 37, 0.018044078432850587)\n",
      "('n', 16, 0.040318857239774235)\n",
      "('o', 43, 0.0501465198013738)\n",
      "('p', 23, 0.009497875227317699)\n",
      "('q', 5564, 0.0004899697537901987)\n",
      "('r', 67, 0.03929180525586786)\n",
      "('s', 20, 0.041901836444327184)\n",
      "('t', 26, 0.05406627783169539)\n",
      "('u', 42, 0.019872042514298638)\n",
      "('v', 273, 0.005907904531277973)\n",
      "('w', 121, 0.013841645544573114)\n",
      "('x', 308, 0.0007161096401549058)\n",
      "('y', 245, 0.014878120023744688)\n",
      "('z', 3589, 0.0003297873342818645)\n"
     ]
    }
   ],
   "source": [
    "for i in zip(characters, index, prob_mass_func):\n",
    "    print(i)"
   ]
  },
  {
   "cell_type": "markdown",
   "id": "ba517cdf-9a61-4123-aa20-a6525ee20b15",
   "metadata": {
    "tags": []
   },
   "source": [
    "# 1. Calulcate the Shannon Entropy of the text"
   ]
  },
  {
   "cell_type": "code",
   "execution_count": 5,
   "id": "ed2f5a25-cce9-41a0-ad4e-244c3b3f6a3c",
   "metadata": {
    "tags": []
   },
   "outputs": [],
   "source": [
    "def Shannon_entropy(character, frequency):\n",
    "    entropy = -frequency*np.log2(frequency)\n",
    "    return entropy"
   ]
  },
  {
   "cell_type": "code",
   "execution_count": 6,
   "id": "0f6ef04b-a79a-4017-bb83-56f0f54277a6",
   "metadata": {
    "tags": []
   },
   "outputs": [
    {
     "name": "stdout",
     "output_type": "stream",
     "text": [
      "4.57619774449843\n"
     ]
    }
   ],
   "source": [
    "system_entropy = np.sum(Shannon_entropy(character=characters, frequency=prob_mass_func))\n",
    "print(system_entropy)"
   ]
  },
  {
   "cell_type": "markdown",
   "id": "048d4d03-cfb2-4bae-a4e8-a161903da78a",
   "metadata": {},
   "source": [
    "# 2. The Conditional entropy of a character, given previous character\n",
    "For this point we needed to reorder the array character and the array prob_mass_func in order to be ordered by the apperence in the `text.txt`."
   ]
  },
  {
   "cell_type": "code",
   "execution_count": 7,
   "id": "f764cb43-1512-480d-a530-d413b65e9d19",
   "metadata": {
    "tags": []
   },
   "outputs": [
    {
     "data": {
      "text/html": [
       "<div>\n",
       "<style scoped>\n",
       "    .dataframe tbody tr th:only-of-type {\n",
       "        vertical-align: middle;\n",
       "    }\n",
       "\n",
       "    .dataframe tbody tr th {\n",
       "        vertical-align: top;\n",
       "    }\n",
       "\n",
       "    .dataframe thead th {\n",
       "        text-align: right;\n",
       "    }\n",
       "</style>\n",
       "<table border=\"1\" class=\"dataframe\">\n",
       "  <thead>\n",
       "    <tr style=\"text-align: right;\">\n",
       "      <th></th>\n",
       "      <th>index</th>\n",
       "      <th>character</th>\n",
       "      <th>probability_mass_function</th>\n",
       "    </tr>\n",
       "  </thead>\n",
       "  <tbody>\n",
       "    <tr>\n",
       "      <th>0</th>\n",
       "      <td>0</td>\n",
       "      <td>A</td>\n",
       "      <td>0.010808</td>\n",
       "    </tr>\n",
       "    <tr>\n",
       "      <th>1</th>\n",
       "      <td>1</td>\n",
       "      <td>C</td>\n",
       "      <td>0.001932</td>\n",
       "    </tr>\n",
       "    <tr>\n",
       "      <th>2</th>\n",
       "      <td>2</td>\n",
       "      <td>T</td>\n",
       "      <td>0.006662</td>\n",
       "    </tr>\n",
       "    <tr>\n",
       "      <th>3</th>\n",
       "      <td>3</td>\n",
       "      <td></td>\n",
       "      <td>0.224529</td>\n",
       "    </tr>\n",
       "    <tr>\n",
       "      <th>4</th>\n",
       "      <td>4</td>\n",
       "      <td>I</td>\n",
       "      <td>0.010195</td>\n",
       "    </tr>\n",
       "  </tbody>\n",
       "</table>\n",
       "</div>"
      ],
      "text/plain": [
       "   index character  probability_mass_function\n",
       "0      0         A                   0.010808\n",
       "1      1         C                   0.001932\n",
       "2      2         T                   0.006662\n",
       "3      3                             0.224529\n",
       "4      4         I                   0.010195"
      ]
     },
     "execution_count": 7,
     "metadata": {},
     "output_type": "execute_result"
    }
   ],
   "source": [
    "sort = np.argsort(index)\n",
    "\n",
    "characters = characters[sort]\n",
    "index = index[sort]\n",
    "prob_mass_func = prob_mass_func[sort]\n",
    "\n",
    "df = pd.DataFrame({'index':index, 'character':characters, 'probability_mass_function':prob_mass_func }) \n",
    "df.head()"
   ]
  },
  {
   "cell_type": "code",
   "execution_count": 8,
   "id": "1ec226ae-812c-4d5c-a89e-7938b7854549",
   "metadata": {
    "tags": []
   },
   "outputs": [
    {
     "data": {
      "text/plain": [
       "'\\n'"
      ]
     },
     "execution_count": 8,
     "metadata": {},
     "output_type": "execute_result"
    }
   ],
   "source": [
    "df[df['index']==5].iloc[0]['character']"
   ]
  },
  {
   "cell_type": "code",
   "execution_count": 9,
   "id": "b34b2153-6a1e-4e33-8e71-d5b9b46ad645",
   "metadata": {
    "tags": []
   },
   "outputs": [
    {
     "data": {
      "text/plain": [
       "106129"
      ]
     },
     "execution_count": 9,
     "metadata": {},
     "output_type": "execute_result"
    }
   ],
   "source": [
    "len(lines)"
   ]
  },
  {
   "cell_type": "code",
   "execution_count": 10,
   "id": "9498d0e4-7169-435f-bdcb-c3a992d3ae77",
   "metadata": {
    "tags": []
   },
   "outputs": [
    {
     "name": "stdout",
     "output_type": "stream",
     "text": [
      "['A' 'C' 'T' ... 'e' '.' '\\n']\n"
     ]
    }
   ],
   "source": [
    "print(text)"
   ]
  },
  {
   "cell_type": "code",
   "execution_count": 11,
   "id": "d8401e06-22e6-4ad8-9818-a15596fe0397",
   "metadata": {
    "tags": []
   },
   "outputs": [],
   "source": [
    "def conditional_prob_mass_function(character, given_character):\n",
    "    joint_count = lines.count(given_character+character)\n",
    "    normalizing_factor = 0\n",
    "    for i in df['character']:\n",
    "        normalizing_factor += lines.count(given_character+i)\n",
    "    count_given_character = lines.count(given_character)\n",
    "    count_character = lines.count(character) \n",
    "    return ((joint_count)/(normalizing_factor))"
   ]
  },
  {
   "cell_type": "code",
   "execution_count": 12,
   "id": "426f1c3b-a1eb-410a-a3f2-265ebb4a674f",
   "metadata": {
    "tags": []
   },
   "outputs": [],
   "source": [
    "matrix_conditional_probability = np.zeros((len(df), len(df)))\n",
    "for i, x in enumerate(df['character']):\n",
    "    for j, y in enumerate(df['character'][i:]):\n",
    "        matrix_conditional_probability[i, j] = conditional_prob_mass_function(character=x, given_character=y)"
   ]
  },
  {
   "cell_type": "code",
   "execution_count": 13,
   "id": "3e0fb7d3-be20-4612-a43b-83c8a1539d0a",
   "metadata": {
    "tags": []
   },
   "outputs": [
    {
     "name": "stdout",
     "output_type": "stream",
     "text": [
      "A 1.2917829396514873\n",
      "C 1.820448324205944\n",
      "T 1.8597920518544262\n",
      "  0.7453920982177406\n",
      "I 2.464537884444724\n",
      "\n",
      " 1.0141789490926527\n",
      "S 0.8063596252676684\n",
      "E 0.5520711260666493\n",
      "N 1.1417741611270287\n",
      ". 0.4502775366858061\n",
      "O 0.7158445465603283\n",
      "n 0.7038456415921371\n",
      "a 0.5894323546165589\n",
      "s 0.5431850395445471\n",
      "h 2.2675132874118606\n",
      "i 0.6968319298345791\n",
      "p 1.3599349331897308\n",
      "t 0.62707531028499\n",
      "e 0.42646516670663703\n",
      ": 0.804139751039085\n",
      "m 0.9627596907131174\n",
      "u 0.7315741397197085\n",
      "o 1.60149991277307\n",
      "f 0.5235501925169094\n",
      "d 1.0609459023963324\n",
      "r 0.7290466479497234\n",
      "l 1.4356138963739582\n",
      "g 0.3927881380924939\n",
      "M 1.618833817259961\n",
      "B 0.6460986143463155\n",
      "w 1.615635514544012\n",
      "! 0.1270474243375113\n",
      "H 1.0875056898959659\n",
      ", 1.6606748161664329\n",
      "c 1.1597505986948573\n",
      "? 1.4222670894915084\n",
      "G 0.830981048018303\n",
      "k 0.935059160546406\n",
      "' 0.7124577776711019\n",
      "y 0.447339270094546\n",
      "v 0.5043204336272284\n",
      "b 0.8274185723434889\n",
      "x 0.5257039834671312\n",
      "L 0.5984748010610079\n",
      "F 0.3340038098102614\n",
      "R 0.1200082217524078\n",
      "D 0.8535296380123966\n",
      "Z 1.1709457976739084\n",
      "W 0.7646107646107647\n",
      "P 0.05478750640040962\n",
      "Y 0.015873015873015872\n",
      "; 0.0\n",
      "- 0.0\n",
      "z 0.05\n",
      "q 0.0\n",
      "K 0.05263157894736842\n",
      "j 0.25\n",
      "U 0.9973684210526316\n",
      "J 0.0\n",
      "[ 1.8\n",
      "] 0.0\n",
      "V 0.0\n",
      "& 0.0\n"
     ]
    }
   ],
   "source": [
    "for i in range(len(matrix_conditional_probability[0])):\n",
    "    print(df['character'][i], matrix_conditional_probability[:, i].sum())"
   ]
  },
  {
   "cell_type": "code",
   "execution_count": 103,
   "id": "bc411398-1bf5-40f1-8e05-4b6a69e6e635",
   "metadata": {
    "tags": []
   },
   "outputs": [
    {
     "data": {
      "text/plain": [
       "(63, 63)"
      ]
     },
     "execution_count": 103,
     "metadata": {},
     "output_type": "execute_result"
    }
   ],
   "source": [
    "matrix_conditional_probability[matrix_conditional_probability==0] = 1 #useful to keep dimension and also not consider object with prob=0 in the entropy calculus\n",
    "matrix_conditional_probability.shape\n",
    "np.log2(matrix_conditional_probability).shape"
   ]
  },
  {
   "cell_type": "code",
   "execution_count": 104,
   "id": "675e57bb-1069-45b3-866b-ea0e29fa4b49",
   "metadata": {
    "tags": []
   },
   "outputs": [
    {
     "data": {
      "text/plain": [
       "array([3.19055438, 2.90598677, 2.64951489, 4.49894038, 3.24322019,\n",
       "       1.84203222, 3.28318686, 2.72077737, 3.59139209, 0.87995023,\n",
       "       2.51819977, 3.73251213, 3.79935522, 3.58514335, 2.79807235,\n",
       "       3.42101979, 3.60316325, 3.1171551 , 3.84814655, 0.85519289,\n",
       "       3.37661993, 3.71792569, 3.92363585, 3.13046285, 3.05659985,\n",
       "       3.86079022, 3.5968159 , 3.68938972, 2.58780135, 2.19492725,\n",
       "       3.25692227, 1.24811686, 2.23919891, 0.93747114, 3.15866168,\n",
       "       0.9673763 , 1.39142858, 2.96525784, 2.9886686 , 2.4296126 ,\n",
       "       1.20346862, 3.0228925 , 3.05369799, 2.3292819 , 2.51041724,\n",
       "       1.9273029 , 3.01133759, 0.        , 1.74523336, 2.22831092,\n",
       "       1.10288427, 0.98129042, 3.77003453, 1.57463358, 0.        ,\n",
       "       1.89199549, 1.66578981, 1.31061331, 1.72440782, 1.12192809,\n",
       "       0.29747225, 1.75      , 0.        ])"
      ]
     },
     "execution_count": 104,
     "metadata": {},
     "output_type": "execute_result"
    }
   ],
   "source": [
    "entropy_fixed_given_character = np.zeros(63)\n",
    "for i in range(len(entropy_fixed_given_character)):\n",
    "    entropy_fixed_given_character[i]=np.sum( -matrix_conditional_probability[:, i] * np.log2(matrix_conditional_probability[:, i]))\n",
    "entropy_fixed_given_character"
   ]
  },
  {
   "cell_type": "code",
   "execution_count": 105,
   "id": "ae7cd401-cbe8-4a65-9f37-00b58b17dd70",
   "metadata": {
    "tags": []
   },
   "outputs": [
    {
     "data": {
      "text/plain": [
       "3.4879433653347416"
      ]
     },
     "execution_count": 105,
     "metadata": {},
     "output_type": "execute_result"
    }
   ],
   "source": [
    "conditional_entropy = (prob_mass_func * entropy_fixed_given_character).sum()\n",
    "conditional_entropy"
   ]
  },
  {
   "cell_type": "markdown",
   "id": "66595140-8fbf-4e79-953b-65f2d244194c",
   "metadata": {},
   "source": [
    "# The Mutual information between a character and the previous one\n",
    "I[X:Y] = H[X] - H[X|Y]"
   ]
  },
  {
   "cell_type": "code",
   "execution_count": 106,
   "id": "d1200962-573e-45cb-8b1b-1352501171c7",
   "metadata": {
    "tags": []
   },
   "outputs": [
    {
     "name": "stdout",
     "output_type": "stream",
     "text": [
      "1.088254379163688\n"
     ]
    }
   ],
   "source": [
    "I = system_entropy - conditional_entropy\n",
    "print(I)"
   ]
  },
  {
   "cell_type": "code",
   "execution_count": null,
   "id": "14fb2639-0bc3-42d8-80da-a251d400985c",
   "metadata": {},
   "outputs": [],
   "source": []
  }
 ],
 "metadata": {
  "kernelspec": {
   "display_name": "Python (torch)",
   "language": "python",
   "name": "torch"
  },
  "language_info": {
   "codemirror_mode": {
    "name": "ipython",
    "version": 3
   },
   "file_extension": ".py",
   "mimetype": "text/x-python",
   "name": "python",
   "nbconvert_exporter": "python",
   "pygments_lexer": "ipython3",
   "version": "3.10.13"
  }
 },
 "nbformat": 4,
 "nbformat_minor": 5
}
